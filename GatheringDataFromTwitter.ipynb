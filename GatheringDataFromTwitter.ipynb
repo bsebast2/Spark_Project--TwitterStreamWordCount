{
  "nbformat": 4,
  "nbformat_minor": 0,
  "metadata": {
    "colab": {
      "name": "GatheringDataFromTwitter.ipynb",
      "provenance": []
    },
    "kernelspec": {
      "name": "python3",
      "display_name": "Python 3"
    }
  },
  "cells": [
    {
      "cell_type": "code",
      "metadata": {
        "id": "PCBLuaMbv29N"
      },
      "source": [
        "import tweepy"
      ],
      "execution_count": 4,
      "outputs": []
    },
    {
      "cell_type": "code",
      "metadata": {
        "id": "2nreB6_5mLec"
      },
      "source": [
        "import json"
      ],
      "execution_count": 1,
      "outputs": []
    },
    {
      "cell_type": "code",
      "metadata": {
        "id": "4gZXWG48im-R"
      },
      "source": [
        "from wordcloud import WordCloud"
      ],
      "execution_count": 2,
      "outputs": []
    },
    {
      "cell_type": "code",
      "metadata": {
        "id": "D1ZbCmBwv411"
      },
      "source": [
        "import pandas as pd\r\n",
        "import numpy as np\r\n",
        "import matplotlib.pyplot as  plt"
      ],
      "execution_count": 3,
      "outputs": []
    },
    {
      "cell_type": "code",
      "metadata": {
        "id": "emLVL8NKv7GF"
      },
      "source": [
        "plt.style.use('fivethirtyeight')"
      ],
      "execution_count": 5,
      "outputs": []
    },
    {
      "cell_type": "code",
      "metadata": {
        "id": "G-1sUHbRv9-0"
      },
      "source": [
        "import socket\r\n",
        "import sys\r\n",
        "import requests\r\n",
        "import requests_oauthlib\r\n",
        "import json#log=pd.read_csv('Login.csv')"
      ],
      "execution_count": 6,
      "outputs": []
    },
    {
      "cell_type": "code",
      "metadata": {
        "id": "UDGRTyIVGckg"
      },
      "source": [
        "\r\n",
        "\r\n",
        "CONSUMER_KEY = ''\r\n",
        "CONSUMER_SECRET = ''\r\n",
        "ACCESS_TOKEN = ''\r\n",
        "ACCESS_SECRET = ''\r\n",
        "my_auth = requests_oauthlib.OAuth1(CONSUMER_KEY, CONSUMER_SECRET,ACCESS_TOKEN, ACCESS_SECRET)"
      ],
      "execution_count": 7,
      "outputs": []
    },
    {
      "cell_type": "code",
      "metadata": {
        "id": "8jg-v2XfG0zI"
      },
      "source": [
        "#authenticate\r\n",
        "authenticate=tweepy.OAuthHandler(CONSUMER_KEY,CONSUMER_SECRET)\r\n",
        "\r\n",
        "#accessToken\r\n",
        "authenticate.set_access_token(ACCESS_TOKEN,ACCESS_SECRET)\r\n",
        "\r\n",
        "\r\n",
        "api=tweepy.API(authenticate,wait_on_rate_limit=True)\r\n",
        "\r\n",
        "posts=api.user_timeline(screen_name=\"BillGates\",count=100,lang=\"en\",tweet_mode=\"extended\")\r\n",
        "\r\n",
        "print(\"Show the 5 recent tweets: \\n\")\r\n",
        "for tweet in posts[0:5]:\r\n",
        "\tprint(tweet.full_text + '\\n')"
      ],
      "execution_count": null,
      "outputs": []
    },
    {
      "cell_type": "markdown",
      "metadata": {
        "id": "vMeXyVTROyJL"
      },
      "source": [
        "Twitter data: Run search . Needed to find interesting queries. Found that posts pointed to specific accounts were very helpful to understand attitudes towards Amazon. I tried \"@amazon\", but found \"@amazonhelp\" was very useful. "
      ]
    },
    {
      "cell_type": "code",
      "metadata": {
        "id": "k8xwyQnhJQ2C"
      },
      "source": [
        "query = '@amazonhelp'\r\n",
        "max_tweets = 10\r\n",
        "\r\n",
        "searched_tweets = [status for status in tweepy.Cursor(api.search, q=query).items(max_tweets)]"
      ],
      "execution_count": 9,
      "outputs": []
    },
    {
      "cell_type": "code",
      "metadata": {
        "colab": {
          "base_uri": "https://localhost:8080/",
          "height": 53
        },
        "id": "rMTLhpRT8Zho",
        "outputId": "a124ad23-aba4-4fb7-96ac-eebc18c800a3"
      },
      "source": [
        "searched_tweets[0].text"
      ],
      "execution_count": 13,
      "outputs": [
        {
          "output_type": "execute_result",
          "data": {
            "application/vnd.google.colaboratory.intrinsic+json": {
              "type": "string"
            },
            "text/plain": [
              "'@tweethue Spoke too soon. The bulb is unresponsive again but I wonder if it’s an Amazon issue #alexa @AmazonHelp an… https://t.co/zLufgu29a6'"
            ]
          },
          "metadata": {
            "tags": []
          },
          "execution_count": 13
        }
      ]
    },
    {
      "cell_type": "code",
      "metadata": {
        "colab": {
          "base_uri": "https://localhost:8080/"
        },
        "id": "ZDgI-oabBvlG",
        "outputId": "30ca2724-1a1f-406e-d140-ce25e278947f"
      },
      "source": [
        "from google.colab import drive\r\n",
        "drive.mount('/content/drive')"
      ],
      "execution_count": 27,
      "outputs": [
        {
          "output_type": "stream",
          "text": [
            "Mounted at /content/drive\n"
          ],
          "name": "stdout"
        }
      ]
    },
    {
      "cell_type": "code",
      "metadata": {
        "id": "2SPsd9JdlyI1"
      },
      "source": [
        "\r\n",
        "\r\n",
        "with open('/content/outputFile_Twitterdata.txt', 'a') as testwritefile:\r\n",
        "  i=0\r\n",
        "  for status in searched_tweets:\r\n",
        "    testwritefile.write(str(searched_tweets[i]))\r\n",
        "    i=i+1\r\n",
        " "
      ],
      "execution_count": 29,
      "outputs": []
    },
    {
      "cell_type": "code",
      "metadata": {
        "id": "4pwaP9229S9w"
      },
      "source": [
        "frame=pd.DataFrame(data=searched_tweets)"
      ],
      "execution_count": 80,
      "outputs": []
    },
    {
      "cell_type": "code",
      "metadata": {
        "id": "YFq56tRwC_5Z"
      },
      "source": [
        "import csv #Import csv\r\n",
        "# Open/create a file to append data to\r\n",
        "csvFile = open('result.csv', 'a')\r\n",
        "\r\n",
        "#Use csv writer\r\n",
        "csvWriter = csv.writer(csvFile)\r\n",
        "\r\n",
        "for tweet in tweepy.Cursor(api.search,\r\n",
        "                           q = \"@amazonHelp\",\r\n",
        "                           lang = \"en\").items():\r\n",
        "\r\n",
        "    # Write a row to the CSV file. I use encode UTF-8\r\n",
        "    csvWriter.writerow([tweet.created_at, tweet.text.encode('utf-8')])\r\n",
        "    print (tweet.created_at, tweet.text)\r\n",
        "csvFile.close()\r\n"
      ],
      "execution_count": null,
      "outputs": []
    }
  ]
}